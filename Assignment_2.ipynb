{
  "nbformat": 4,
  "nbformat_minor": 0,
  "metadata": {
    "colab": {
      "name": "Assignment 2",
      "version": "0.3.2",
      "views": {},
      "default_view": {},
      "provenance": [],
      "collapsed_sections": []
    },
    "kernelspec": {
      "name": "python3",
      "display_name": "Python 3"
    }
  },
  "cells": [
    {
      "metadata": {
        "id": "8DX3c5k7oAOu",
        "colab_type": "text"
      },
      "cell_type": "markdown",
      "source": [
        "## Q no 1: Write a python program to find number of occurrences of given number in a list with out using built-in methods\n",
        "## **1 generate a list of some random num which is repeated again and again\n",
        "## **2 take user input any number\n",
        "## **3 find the number of occurrences of that num in your list\n",
        "## **4 print some message to user with that result\n"
      ]
    },
    {
      "metadata": {
        "id": "BM_7ezxQfRNE",
        "colab_type": "code",
        "colab": {
          "autoexec": {
            "startup": false,
            "wait_interval": 0
          },
          "base_uri": "https://localhost:8080/",
          "height": 51
        },
        "outputId": "939f2665-92e1-408b-87b3-1e623ccf211e",
        "executionInfo": {
          "status": "ok",
          "timestamp": 1533498392011,
          "user_tz": 420,
          "elapsed": 25886,
          "user": {
            "displayName": "Syeda Kainat Adil",
            "photoUrl": "https://lh3.googleusercontent.com/a/default-user=s128",
            "userId": "112860650756711629273"
          }
        }
      },
      "cell_type": "code",
      "source": [
        "count = 0\n",
        "list = [2,4,2,3,3,4,2,4,1,9,8,6,5,9]\n",
        "num = int(input(\"enter any number\"))\n",
        "for m in list :\n",
        "  if (m == num):\n",
        "    count += 1\n",
        "print('occurencees : {}'.format(count))"
      ],
      "execution_count": 1,
      "outputs": [
        {
          "output_type": "stream",
          "text": [
            "enter any number3\n",
            "occurencees : 2\n"
          ],
          "name": "stdout"
        }
      ]
    },
    {
      "metadata": {
        "id": "U7AAKRbypPii",
        "colab_type": "text"
      },
      "cell_type": "markdown",
      "source": [
        "## Q no 2: [\"www.zframez.com\", \"www.wikipedia.org\", \"www.asp.net\", \"www.abcd.in\"] \n",
        "\n",
        "\n",
        "\n",
        "\n",
        "## Write a python program to print website suffixes (com , org , net ,in) from this list"
      ]
    },
    {
      "metadata": {
        "id": "clDPgRvVhnSt",
        "colab_type": "code",
        "colab": {
          "autoexec": {
            "startup": false,
            "wait_interval": 0
          },
          "base_uri": "https://localhost:8080/",
          "height": 85
        },
        "outputId": "b20b0192-20eb-4f8c-9df5-0301f1a10297",
        "executionInfo": {
          "status": "ok",
          "timestamp": 1533396260392,
          "user_tz": 420,
          "elapsed": 1561,
          "user": {
            "displayName": "Syeda Kainat Adil",
            "photoUrl": "https://lh3.googleusercontent.com/a/default-user=s128",
            "userId": "112860650756711629273"
          }
        }
      },
      "cell_type": "code",
      "source": [
        "names = [\"www.zframez.com\", \"www.wikipedia.org\", \"www.asp.net\", \"www.abcd.in\"]\n",
        "for name in names:\n",
        "    content = name.split('.')\n",
        "    print(content[2])\n"
      ],
      "execution_count": 13,
      "outputs": [
        {
          "output_type": "stream",
          "text": [
            "com\n",
            "org\n",
            "net\n",
            "in\n"
          ],
          "name": "stdout"
        }
      ]
    },
    {
      "metadata": {
        "id": "u-oR-GhOtgYR",
        "colab_type": "text"
      },
      "cell_type": "markdown",
      "source": [
        "\n",
        "## Q no 3 : Write a program which can compute the factorial of a given numbers.\n",
        "\n",
        "\n",
        "## **1 first take user input any number\n",
        "##**2 calculate factorial of that input and then print the result to user"
      ]
    },
    {
      "metadata": {
        "id": "s0bi3ZVktqD0",
        "colab_type": "code",
        "colab": {
          "autoexec": {
            "startup": false,
            "wait_interval": 0
          },
          "base_uri": "https://localhost:8080/",
          "height": 34
        },
        "outputId": "32ad68c3-f572-4ea4-fdf6-0202eee9c469",
        "executionInfo": {
          "status": "ok",
          "timestamp": 1533567010054,
          "user_tz": 420,
          "elapsed": 12880,
          "user": {
            "displayName": "Syeda Kainat Adil",
            "photoUrl": "https://lh3.googleusercontent.com/a/default-user=s128",
            "userId": "112860650756711629273"
          }
        }
      },
      "cell_type": "code",
      "source": [
        "number = int(input(\"Enter any number: \"))\n"
      ],
      "execution_count": 1,
      "outputs": [
        {
          "output_type": "stream",
          "text": [
            "Enter any number: 4\n"
          ],
          "name": "stdout"
        }
      ]
    },
    {
      "metadata": {
        "id": "a2cx16jCt5I6",
        "colab_type": "code",
        "colab": {
          "autoexec": {
            "startup": false,
            "wait_interval": 0
          },
          "base_uri": "https://localhost:8080/",
          "height": 34
        },
        "outputId": "16b91c8a-6df8-4086-b671-749e1fa2f70a",
        "executionInfo": {
          "status": "ok",
          "timestamp": 1533567037354,
          "user_tz": 420,
          "elapsed": 1446,
          "user": {
            "displayName": "Syeda Kainat Adil",
            "photoUrl": "https://lh3.googleusercontent.com/a/default-user=s128",
            "userId": "112860650756711629273"
          }
        }
      },
      "cell_type": "code",
      "source": [
        "factorialList = range(1,(number+1))\n",
        "factorialList"
      ],
      "execution_count": 2,
      "outputs": [
        {
          "output_type": "execute_result",
          "data": {
            "text/plain": [
              "range(1, 5)"
            ]
          },
          "metadata": {
            "tags": []
          },
          "execution_count": 2
        }
      ]
    },
    {
      "metadata": {
        "id": "h-4VwRnVuN6C",
        "colab_type": "code",
        "colab": {
          "autoexec": {
            "startup": false,
            "wait_interval": 0
          }
        }
      },
      "cell_type": "code",
      "source": [
        "factorial = 1\n",
        "for factorialNumber in factorialList:\n",
        "    factorial *= factorialNumber"
      ],
      "execution_count": 0,
      "outputs": []
    },
    {
      "metadata": {
        "id": "spdL2S83uXfA",
        "colab_type": "code",
        "colab": {
          "autoexec": {
            "startup": false,
            "wait_interval": 0
          },
          "base_uri": "https://localhost:8080/",
          "height": 34
        },
        "outputId": "f578737f-4887-4712-c80b-3d2c13c9551b",
        "executionInfo": {
          "status": "ok",
          "timestamp": 1533567142943,
          "user_tz": 420,
          "elapsed": 1171,
          "user": {
            "displayName": "Syeda Kainat Adil",
            "photoUrl": "https://lh3.googleusercontent.com/a/default-user=s128",
            "userId": "112860650756711629273"
          }
        }
      },
      "cell_type": "code",
      "source": [
        "print(\"Factorial of number {} is {}\".format(number,factorial))\n"
      ],
      "execution_count": 4,
      "outputs": [
        {
          "output_type": "stream",
          "text": [
            "Factorial of number 4 is 24\n"
          ],
          "name": "stdout"
        }
      ]
    },
    {
      "metadata": {
        "id": "KjMzH1i_jFoB",
        "colab_type": "text"
      },
      "cell_type": "markdown",
      "source": [
        "## Q 4 (a) : If you could invite anyone, living or deceased, to dinner, who would you invite? Make a list that includes at least three people you’d like to invite to dinner. Then use your list to print a message to each person, inviting them to dinner.\n"
      ]
    },
    {
      "metadata": {
        "id": "zvv7uh0_jSsC",
        "colab_type": "code",
        "colab": {
          "autoexec": {
            "startup": false,
            "wait_interval": 0
          },
          "base_uri": "https://localhost:8080/",
          "height": 68
        },
        "outputId": "2e65e0b9-3473-49a1-aa0c-5dfe952a9ca2",
        "executionInfo": {
          "status": "ok",
          "timestamp": 1533568639229,
          "user_tz": 420,
          "elapsed": 1423,
          "user": {
            "displayName": "Syeda Kainat Adil",
            "photoUrl": "https://lh3.googleusercontent.com/a/default-user=s128",
            "userId": "112860650756711629273"
          }
        }
      },
      "cell_type": "code",
      "source": [
        "guests = [\"esha\" , \"aqeela\" , \"zarish\" ]\n",
        "for guest in guests:\n",
        "  print(\"you are invited {0}\".format(guest))\n",
        " "
      ],
      "execution_count": 17,
      "outputs": [
        {
          "output_type": "stream",
          "text": [
            "you are invited esha\n",
            "you are invited aqeela\n",
            "you are invited zarish\n"
          ],
          "name": "stdout"
        }
      ]
    },
    {
      "metadata": {
        "id": "aVOxSUn6o6cX",
        "colab_type": "text"
      },
      "cell_type": "markdown",
      "source": [
        "## Q 4 (b) : You just heard that one of your guests can’t make the dinner, so you need to send out a new set of invitations. You’ll have to think of someone else to invite.\n",
        "\n",
        "## • Start with your program from Q 4 (a). Add a print statement at the end of your program stating the name of the guest who can’t make it.\n",
        "\n",
        "## • Modify your list, replacing the name of the guest who can’t make it with the name of the new person you are inviting.\n",
        "\n",
        "## • Print a second set of invitation messages, one for each person who is still in your list.\n"
      ]
    },
    {
      "metadata": {
        "id": "5HpckbIduwkZ",
        "colab_type": "code",
        "colab": {
          "autoexec": {
            "startup": false,
            "wait_interval": 0
          },
          "base_uri": "https://localhost:8080/",
          "height": 85
        },
        "outputId": "31f11b9b-562d-4604-d585-c26bec3dfad5",
        "executionInfo": {
          "status": "ok",
          "timestamp": 1533568688021,
          "user_tz": 420,
          "elapsed": 25123,
          "user": {
            "displayName": "Syeda Kainat Adil",
            "photoUrl": "https://lh3.googleusercontent.com/a/default-user=s128",
            "userId": "112860650756711629273"
          }
        }
      },
      "cell_type": "code",
      "source": [
        "unable_to_come = \"zarish\"\n",
        "guests[2] = \"areeba\"\n",
        "for guest in guests:\n",
        "  print(\"you are invited {0}\".format(guest))\n",
        "print(\"Miss {} will not come\".format(unable_to_come))"
      ],
      "execution_count": 18,
      "outputs": [
        {
          "output_type": "stream",
          "text": [
            "you are invited esha\n",
            "you are invited aqeela\n",
            "you are invited areeba\n",
            "Miss zarish will not come\n"
          ],
          "name": "stdout"
        }
      ]
    },
    {
      "metadata": {
        "id": "SCymBQM0xdSc",
        "colab_type": "text"
      },
      "cell_type": "markdown",
      "source": [
        "## Q 4 (c) : You just found a bigger dinner table, so now more space is available. Think of three more guests to invite to dinner.\n",
        "\n",
        "## • Start with your program from Q 4 (a) and (b) Add a print statement to the end of your program informing people that you found a bigger dinner table.\n",
        "\n",
        "## • Use insert() to add one new guest to the beginning of your list.\n",
        "\n",
        "## • Use insert() to add one new guest to the middle of your list.\n",
        "\n",
        "## • Use append() to add one new guest to the end of your list.\n",
        "\n",
        "## • Print a new set of invitation messages, one for each person in your list.\n",
        "\n"
      ]
    },
    {
      "metadata": {
        "id": "XEwTngsA0XLN",
        "colab_type": "code",
        "colab": {
          "autoexec": {
            "startup": false,
            "wait_interval": 0
          },
          "base_uri": "https://localhost:8080/",
          "height": 136
        },
        "outputId": "5ddbd8b3-af05-4c89-e50c-0544151e3658",
        "executionInfo": {
          "status": "ok",
          "timestamp": 1533568962741,
          "user_tz": 420,
          "elapsed": 1479,
          "user": {
            "displayName": "Syeda Kainat Adil",
            "photoUrl": "https://lh3.googleusercontent.com/a/default-user=s128",
            "userId": "112860650756711629273"
          }
        }
      },
      "cell_type": "code",
      "source": [
        "oldGuests = guests[:]\n",
        "guests.insert(0,\"umaima\")\n",
        "guests.insert(2, \"raima\")\n",
        "guests.append(\"zoya\")\n",
        "for guest in guests:\n",
        "    print(\"you are inited {0}\".format(guest))\n",
        "print(\"I have got the bigger table to dinner\")\n"
      ],
      "execution_count": 19,
      "outputs": [
        {
          "output_type": "stream",
          "text": [
            "you are inited umaima\n",
            "you are inited esha\n",
            "you are inited raima\n",
            "you are inited aqeela\n",
            "you are inited areeba\n",
            "you are inited zoya\n",
            "I have got the bigger table to dinner\n"
          ],
          "name": "stdout"
        }
      ]
    },
    {
      "metadata": {
        "id": "LKckMc-D1ZI8",
        "colab_type": "text"
      },
      "cell_type": "markdown",
      "source": [
        "## Q 5 : Here you have some data in variable below, your task is to make a list of specific word Surah then print the list and length of list"
      ]
    },
    {
      "metadata": {
        "id": "eiUnX8l41g8o",
        "colab_type": "code",
        "colab": {
          "autoexec": {
            "startup": false,
            "wait_interval": 0
          },
          "base_uri": "https://localhost:8080/",
          "height": 51
        },
        "outputId": "1c716c9e-e627-4f93-e657-4fcabf30eac8",
        "executionInfo": {
          "status": "ok",
          "timestamp": 1533569992999,
          "user_tz": 420,
          "elapsed": 1266,
          "user": {
            "displayName": "Syeda Kainat Adil",
            "photoUrl": "https://lh3.googleusercontent.com/a/default-user=s128",
            "userId": "112860650756711629273"
          }
        }
      },
      "cell_type": "code",
      "source": [
        "data = \"Surah I Who believe in the Unseen, Surah Are steadfast in prayer, And spend Surah out of what We Have provided for them;\"\n",
        "word = 'Surah'\n",
        "new_list = []\n",
        "a = data.split(' ')\n",
        "\n",
        "for x in a:    \n",
        "    if x == search_word:\n",
        "        new_list.append(x)\n",
        "\n",
        "print(new_list)\n",
        "print(\"Length of list: {}\" .format(len(new_list)))\n",
        "\n"
      ],
      "execution_count": 27,
      "outputs": [
        {
          "output_type": "stream",
          "text": [
            "['Surah', 'Surah', 'Surah']\n",
            "Length of list: 3\n"
          ],
          "name": "stdout"
        }
      ]
    }
  ]
}