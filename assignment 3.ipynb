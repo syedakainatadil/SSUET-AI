{
  "nbformat": 4,
  "nbformat_minor": 0,
  "metadata": {
    "colab": {
      "name": "Untitled1.ipynb",
      "version": "0.3.2",
      "provenance": [],
      "collapsed_sections": []
    },
    "kernelspec": {
      "name": "python3",
      "display_name": "Python 3"
    }
  },
  "cells": [
    {
      "metadata": {
        "id": "1QjMcNKNNkHG",
        "colab_type": "text"
      },
      "cell_type": "markdown",
      "source": [
        "## Q no 1 : you have some strings in variable text your task is to make a list of capital letters only using list comprehension and print that list\n",
        "## Hint! explore isUpper() method then do this\n"
      ]
    },
    {
      "metadata": {
        "id": "wZtxwWgv_9Vz",
        "colab_type": "code",
        "colab": {
          "base_uri": "https://localhost:8080/"
        },
        "outputId": "42dba835-ebc6-4753-c908-36287a646baf"
      },
      "cell_type": "code",
      "source": [
        "text = \"I Have To Go To Office\"\n",
        "capital = []\n",
        "[capital.append(t) for t in text if t.isupper()==True]\n",
        "print(capital)"
      ],
      "execution_count": 4,
      "outputs": [
        {
          "output_type": "stream",
          "text": [
            "['I', 'H', 'T', 'G', 'T', 'O']\n"
          ],
          "name": "stdout"
        }
      ]
    },
    {
      "metadata": {
        "id": "vDAubreYNs65",
        "colab_type": "text"
      },
      "cell_type": "markdown",
      "source": [
        "## Q no 2: Make a list of numbers from 0 to 20 which is divisible by 2 using list comprehension"
      ]
    },
    {
      "metadata": {
        "id": "roTcP5b1FcJy",
        "colab_type": "code",
        "colab": {
          "base_uri": "https://localhost:8080/",
          "height": 34
        },
        "outputId": "236e56a7-85f8-4d02-d367-5adea5d3330d"
      },
      "cell_type": "code",
      "source": [
        "number=[n for n in range(0,21) if n%2==0]\n",
        "print(number)"
      ],
      "execution_count": 8,
      "outputs": [
        {
          "output_type": "stream",
          "text": [
            "[0, 2, 4, 6, 8, 10, 12, 14, 16, 18, 20]\n"
          ],
          "name": "stdout"
        }
      ]
    },
    {
      "metadata": {
        "id": "TGvhMbqPN6DY",
        "colab_type": "text"
      },
      "cell_type": "markdown",
      "source": [
        "## Q no 3 : Find all of the numbers from 1-1000 that are divisible by 7 by making a list using list comprehension and print it\n"
      ]
    },
    {
      "metadata": {
        "id": "tqst_Sy8G6Uh",
        "colab_type": "code",
        "colab": {
          "base_uri": "https://localhost:8080/",
          "height": 54
        },
        "outputId": "92e03f7a-a719-466a-a361-d7c38f2e686f"
      },
      "cell_type": "code",
      "source": [
        "number=[n for n in range(1,1000) if n%7 == 0]\n",
        "print (number)"
      ],
      "execution_count": 9,
      "outputs": [
        {
          "output_type": "stream",
          "text": [
            "[7, 14, 21, 28, 35, 42, 49, 56, 63, 70, 77, 84, 91, 98, 105, 112, 119, 126, 133, 140, 147, 154, 161, 168, 175, 182, 189, 196, 203, 210, 217, 224, 231, 238, 245, 252, 259, 266, 273, 280, 287, 294, 301, 308, 315, 322, 329, 336, 343, 350, 357, 364, 371, 378, 385, 392, 399, 406, 413, 420, 427, 434, 441, 448, 455, 462, 469, 476, 483, 490, 497, 504, 511, 518, 525, 532, 539, 546, 553, 560, 567, 574, 581, 588, 595, 602, 609, 616, 623, 630, 637, 644, 651, 658, 665, 672, 679, 686, 693, 700, 707, 714, 721, 728, 735, 742, 749, 756, 763, 770, 777, 784, 791, 798, 805, 812, 819, 826, 833, 840, 847, 854, 861, 868, 875, 882, 889, 896, 903, 910, 917, 924, 931, 938, 945, 952, 959, 966, 973, 980, 987, 994]\n"
          ],
          "name": "stdout"
        }
      ]
    },
    {
      "metadata": {
        "id": "NG8_1UADOUD3",
        "colab_type": "text"
      },
      "cell_type": "markdown",
      "source": [
        "## Q no 4 : Count the number of spaces in a string below using list comprehension and print the result\n"
      ]
    },
    {
      "metadata": {
        "id": "jX7TjUJ1HdA6",
        "colab_type": "code",
        "colab": {
          "base_uri": "https://localhost:8080/",
          "height": 51
        },
        "outputId": "932c7d3e-16d5-4d78-cb8a-f3b7ae40246d"
      },
      "cell_type": "code",
      "source": [
        "a = \"i will not come\"\n",
        "count = [x for x in a if x==\" \"]\n",
        "print(len(count))\n",
        "count"
      ],
      "execution_count": 11,
      "outputs": [
        {
          "output_type": "stream",
          "text": [
            "3\n"
          ],
          "name": "stdout"
        },
        {
          "output_type": "execute_result",
          "data": {
            "text/plain": [
              "[' ', ' ', ' ']"
            ]
          },
          "metadata": {
            "tags": []
          },
          "execution_count": 11
        }
      ]
    },
    {
      "metadata": {
        "id": "GwBdEImQOp0e",
        "colab_type": "text"
      },
      "cell_type": "markdown",
      "source": [
        "## Q no 5 : Write a script that draws a triangle as below:\n",
        "## * ** *** **** ***** ****** ******* ******** ********* ********** *********** ************\n"
      ]
    },
    {
      "metadata": {
        "id": "vsBS4H-xihRD",
        "colab_type": "code",
        "colab": {
          "base_uri": "https://localhost:8080/"
        },
        "outputId": "b0fdf0d5-6fb4-4f75-c5fb-75babc476f85"
      },
      "cell_type": "code",
      "source": [
        "for t in range(1,13):\n",
        "  print(\"*\"*t)\n",
        "  "
      ],
      "execution_count": 3,
      "outputs": [
        {
          "output_type": "stream",
          "text": [
            "*\n",
            "**\n",
            "***\n",
            "****\n",
            "*****\n",
            "******\n",
            "*******\n",
            "********\n",
            "*********\n",
            "**********\n",
            "***********\n",
            "************\n"
          ],
          "name": "stdout"
        }
      ]
    },
    {
      "metadata": {
        "id": "Elk917K8ORvH",
        "colab_type": "text"
      },
      "cell_type": "markdown",
      "source": [
        "## Q no 6 : Write a script that draws a geometric shape as below:\n",
        "### * ** *** **** ***** ****** ******* ****** ***** **** *** ** *\n"
      ]
    },
    {
      "metadata": {
        "id": "4Ju7NmXLH57A",
        "colab_type": "code",
        "colab": {
          "base_uri": "https://localhost:8080/",
          "height": 272
        },
        "outputId": "77918ace-8878-4c4a-c3f1-c361948ed630"
      },
      "cell_type": "code",
      "source": [
        "for t in range(1,8,1):\n",
        "  print(\"*\"*t)\n",
        "for t in range(8,0,-1):\n",
        "  print(\"*\"*t)"
      ],
      "execution_count": 9,
      "outputs": [
        {
          "output_type": "stream",
          "text": [
            "*\n",
            "**\n",
            "***\n",
            "****\n",
            "*****\n",
            "******\n",
            "*******\n",
            "********\n",
            "*******\n",
            "******\n",
            "*****\n",
            "****\n",
            "***\n",
            "**\n",
            "*\n"
          ],
          "name": "stdout"
        }
      ]
    },
    {
      "metadata": {
        "id": "glhbR-j1P2Yh",
        "colab_type": "text"
      },
      "cell_type": "markdown",
      "source": [
        "## Q no 7 :Find all of the words in a string that are less than 4 letters using list comprehension"
      ]
    },
    {
      "metadata": {
        "id": "R9CP-B0tNKt8",
        "colab_type": "code",
        "colab": {
          "base_uri": "https://localhost:8080/",
          "height": 255
        },
        "outputId": "668e8d9d-e64c-426d-85ba-1a4730738088"
      },
      "cell_type": "code",
      "source": [
        "txt=\"I think it is very difficult task for me and I am unable to understand because I am not an intelligent girl \"\n",
        "words=[x for x in txt.split(\" \") if len(x)<4] \n",
        "words"
      ],
      "execution_count": 19,
      "outputs": [
        {
          "output_type": "execute_result",
          "data": {
            "text/plain": [
              "['I',\n",
              " 'it',\n",
              " 'is',\n",
              " 'for',\n",
              " 'me',\n",
              " 'and',\n",
              " 'I',\n",
              " 'am',\n",
              " 'to',\n",
              " 'I',\n",
              " 'am',\n",
              " 'not',\n",
              " 'an',\n",
              " '']"
            ]
          },
          "metadata": {
            "tags": []
          },
          "execution_count": 19
        }
      ]
    }
  ]
}