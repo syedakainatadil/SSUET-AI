{
  "nbformat": 4,
  "nbformat_minor": 0,
  "metadata": {
    "colab": {
      "name": "Assignment",
      "version": "0.3.2",
      "views": {},
      "default_view": {},
      "provenance": [],
      "collapsed_sections": []
    },
    "kernelspec": {
      "name": "python3",
      "display_name": "Python 3"
    }
  },
  "cells": [
    {
      "metadata": {
        "id": "tfCRB2q-TVAo",
        "colab_type": "text"
      },
      "cell_type": "markdown",
      "source": [
        "# 1 : declare and initialize a variable name total_marks with a value 500"
      ]
    },
    {
      "metadata": {
        "id": "5w2cvrXAUEv2",
        "colab_type": "code",
        "colab": {
          "autoexec": {
            "startup": false,
            "wait_interval": 0
          }
        }
      },
      "cell_type": "code",
      "source": [
        "total_marks = 500"
      ],
      "execution_count": 0,
      "outputs": []
    },
    {
      "metadata": {
        "id": "6X42G6xMUsfn",
        "colab_type": "text"
      },
      "cell_type": "markdown",
      "source": [
        "# 2 : Declare and initialize 5 variable name maths , english , urdu , physics and chemistry with different integer values"
      ]
    },
    {
      "metadata": {
        "id": "RrtwB4ooV977",
        "colab_type": "code",
        "colab": {
          "autoexec": {
            "startup": false,
            "wait_interval": 0
          }
        }
      },
      "cell_type": "code",
      "source": [
        "maths = 100\n",
        "english = 100\n",
        "urdu = 100\n",
        "physics = 100\n",
        "chemistry = 100"
      ],
      "execution_count": 0,
      "outputs": []
    },
    {
      "metadata": {
        "id": "nP_cq7ayW6MG",
        "colab_type": "text"
      },
      "cell_type": "markdown",
      "source": [
        "# 3 :  Calculate the obtained marks and assign the value in variable name obtained_marks"
      ]
    },
    {
      "metadata": {
        "id": "sNUG8xEbXhHG",
        "colab_type": "code",
        "colab": {
          "autoexec": {
            "startup": false,
            "wait_interval": 0
          }
        }
      },
      "cell_type": "code",
      "source": [
        "obtained_marks = maths + english + urdu + physics + chemistry "
      ],
      "execution_count": 0,
      "outputs": []
    },
    {
      "metadata": {
        "id": "KJDgcVp9YXCd",
        "colab_type": "text"
      },
      "cell_type": "markdown",
      "source": [
        "# 4 : Calculate percentage and assign the value in variable name percentage \n",
        "\n",
        "\n"
      ]
    },
    {
      "metadata": {
        "id": "HHAbU14_Y0Dn",
        "colab_type": "code",
        "colab": {
          "autoexec": {
            "startup": false,
            "wait_interval": 0
          }
        }
      },
      "cell_type": "code",
      "source": [
        "percentage = (obtained_marks/500)*100"
      ],
      "execution_count": 0,
      "outputs": []
    },
    {
      "metadata": {
        "id": "GrerDM6TZQYm",
        "colab_type": "text"
      },
      "cell_type": "markdown",
      "source": [
        "# 5 : Declare and initialize an empty variable name grade"
      ]
    },
    {
      "metadata": {
        "id": "3vh3HL1CZcH1",
        "colab_type": "code",
        "colab": {
          "autoexec": {
            "startup": false,
            "wait_interval": 0
          }
        }
      },
      "cell_type": "code",
      "source": [
        "grade = \" \""
      ],
      "execution_count": 0,
      "outputs": []
    },
    {
      "metadata": {
        "id": "6h4S017bZtvE",
        "colab_type": "text"
      },
      "cell_type": "markdown",
      "source": [
        "# 6 :  Assign a value to grade by checking the following conditions\n",
        "\n",
        "# If % is greater than and equal to 90 and less than 100 grade is A+\n",
        "# If % is greater than and equal to 80 and less than 90 grade is A\n",
        "# If % is greater than and equal to 70 and less than 80 grade is B\n",
        "# If % is greater than and equal to 60 and less than 70 grade is C\n",
        "# if % is less than 60 grade is Fail\n"
      ]
    },
    {
      "metadata": {
        "id": "S13XAzxzdFDF",
        "colab_type": "code",
        "colab": {
          "autoexec": {
            "startup": false,
            "wait_interval": 0
          }
        }
      },
      "cell_type": "code",
      "source": [
        "if percentage >= 90 and percentage <= 100:\n",
        "   grade = \"A+\"\n",
        "elif percentage >= 80 and percentage < 90:\n",
        "     grade = \"A\"\n",
        "elif percentage >= 70 and percentage < 80:\n",
        "     grade = \"B\"\n",
        "elif percentage >= 60 and percentage < 70:\n",
        "     grade = \"C\"\n",
        "else:\n",
        "     grade = \"Fail\"\n"
      ],
      "execution_count": 0,
      "outputs": []
    },
    {
      "metadata": {
        "id": "Ppvtq7WTOu-X",
        "colab_type": "text"
      },
      "cell_type": "markdown",
      "source": [
        "# 7 : Print grade percentage and obtained marks"
      ]
    },
    {
      "metadata": {
        "id": "sGo4sFPLO8L_",
        "colab_type": "code",
        "colab": {
          "autoexec": {
            "startup": false,
            "wait_interval": 0
          },
          "base_uri": "https://localhost:8080/",
          "height": 34
        },
        "outputId": "c146f67e-57a2-4834-bb5e-fd330bf18fcb",
        "executionInfo": {
          "status": "ok",
          "timestamp": 1532814639129,
          "user_tz": 420,
          "elapsed": 1246,
          "user": {
            "displayName": "Syeda Kainat Adil",
            "photoUrl": "https://lh3.googleusercontent.com/a/default-user=s128",
            "userId": "112860650756711629273"
          }
        }
      },
      "cell_type": "code",
      "source": [
        "print (\"grade is : {} percentage is : {} obtained_marks is : {}\".format(grade,percentage,obtained_marks))"
      ],
      "execution_count": 9,
      "outputs": [
        {
          "output_type": "stream",
          "text": [
            "grade is : A+ percentage is : 100.0 obtained_marks is : 500\n"
          ],
          "name": "stdout"
        }
      ]
    },
    {
      "metadata": {
        "id": "jVc0EbG1g9dW",
        "colab_type": "code",
        "colab": {
          "autoexec": {
            "startup": false,
            "wait_interval": 0
          }
        }
      },
      "cell_type": "code",
      "source": [
        ""
      ],
      "execution_count": 0,
      "outputs": []
    }
  ]
}